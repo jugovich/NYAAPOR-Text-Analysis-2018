{
 "cells": [
  {
   "cell_type": "markdown",
   "metadata": {},
   "source": [
    "# Introduction to Python\n",
    "\n",
    "* What is Python?\n",
    "* Basic introduction to Python\n",
    "* Introduction to Programming language (Overview)"
   ]
  },
  {
   "cell_type": "code",
   "execution_count": null,
   "metadata": {
    "collapsed": true
   },
   "outputs": [],
   "source": [
    "print(\"Hello World!\")"
   ]
  },
  {
   "cell_type": "markdown",
   "metadata": {},
   "source": [
    "##### Section 1\n",
    "\n",
    "## What is comment?\n",
    "\n",
    "Comments are notes which you will write to explain it to yourself or to someone for easy understanding\n"
   ]
  },
  {
   "cell_type": "code",
   "execution_count": null,
   "metadata": {
    "collapsed": true
   },
   "outputs": [],
   "source": [
    "#Single line comment\n",
    "\n",
    "#Below is a multi line comment\n",
    "'''Multi line comment\n",
    "with three quotes'''"
   ]
  },
  {
   "cell_type": "markdown",
   "metadata": {},
   "source": [
    "##### Section 2 \n",
    "## Objects\n",
    "\n",
    "Basically everything in Python is an object"
   ]
  },
  {
   "cell_type": "markdown",
   "metadata": {},
   "source": [
    "##### Section 2.1\n",
    "## Numbers\n",
    "\n",
    "Python supports various types of numbers such as integers and floats.\n",
    "\n",
    "Python allows you to interact with various types without having to worry about conversions i.e. float to integer or vice versa\n"
   ]
  },
  {
   "cell_type": "code",
   "execution_count": null,
   "metadata": {
    "collapsed": true
   },
   "outputs": [],
   "source": [
    "# integers\n",
    "variableInteger = 1\n",
    "\n",
    "# floats\n",
    "variableFloat = 1.1\n",
    "\n",
    "# simple addition\n",
    "print(variableInteger + variableFloat)"
   ]
  },
  {
   "cell_type": "markdown",
   "metadata": {},
   "source": [
    "##### Section 2.2\n",
    "## Strings\n",
    "\n",
    "Python allows for string objects.\n",
    "\n",
    "You can intereact with strings through indexing.\n",
    "\n",
    "String objects also have a number of functions available.\n"
   ]
  },
  {
   "cell_type": "code",
   "execution_count": null,
   "metadata": {
    "collapsed": true
   },
   "outputs": [],
   "source": [
    "# strings\n",
    "variableString = 'This is a string variable'\n",
    "\n",
    "print(variableString)"
   ]
  },
  {
   "cell_type": "code",
   "execution_count": null,
   "metadata": {
    "collapsed": true
   },
   "outputs": [],
   "source": [
    "# string indexing\n",
    "print(variableString[0])\n",
    "print(variableString[1:])"
   ]
  },
  {
   "cell_type": "code",
   "execution_count": null,
   "metadata": {
    "collapsed": true
   },
   "outputs": [],
   "source": [
    "# String functions\n",
    "print(variableString.startswith('T'))"
   ]
  },
  {
   "cell_type": "markdown",
   "metadata": {},
   "source": [
    "##### Section 2.3\n",
    "## Containers\n",
    "\n",
    "You can store objects in various containers"
   ]
  },
  {
   "cell_type": "code",
   "execution_count": null,
   "metadata": {
    "collapsed": true
   },
   "outputs": [],
   "source": [
    "# lists\n",
    "_list1 = [1,2,3,1]\n",
    "_list1.append(4)\n",
    "print(_list1)"
   ]
  },
  {
   "cell_type": "code",
   "execution_count": null,
   "metadata": {
    "collapsed": true
   },
   "outputs": [],
   "source": [
    "# sets\n",
    "_set1 = set([1,2,3,1])\n",
    "print(_set1)"
   ]
  },
  {
   "cell_type": "code",
   "execution_count": null,
   "metadata": {
    "collapsed": true
   },
   "outputs": [],
   "source": [
    "# dictionaries\n",
    "_dict = {1: 'First', 2: 'second', 3: 'third'}\n",
    "print(_dict[2])"
   ]
  },
  {
   "cell_type": "markdown",
   "metadata": {},
   "source": [
    "##### Section 3\n",
    "## Decision making\n",
    "\n",
    "We have access to logic based statements"
   ]
  },
  {
   "cell_type": "code",
   "execution_count": null,
   "metadata": {
    "collapsed": true
   },
   "outputs": [],
   "source": [
    "if 1 in _dict:\n",
    "    print('Value Detected')\n",
    "    \n",
    "if 'third' in _dict:\n",
    "    print('Detected 4')\n",
    "elif 0 in _dict:\n",
    "    print('Detected 2')\n",
    "else:\n",
    "    print('Values not detected')"
   ]
  },
  {
   "cell_type": "markdown",
   "metadata": {},
   "source": [
    "##### Section 4.1\n",
    "### Looping (Repeating a certain task)\n",
    "Repeating a task a set number of times. A loop statement allows us to execute a statement or group of statements multiple times.\n"
   ]
  },
  {
   "cell_type": "code",
   "execution_count": null,
   "metadata": {
    "collapsed": true
   },
   "outputs": [],
   "source": [
    "for x in range (10): #0-9\n",
    "    print (x)"
   ]
  },
  {
   "cell_type": "code",
   "execution_count": null,
   "metadata": {
    "collapsed": true
   },
   "outputs": [],
   "source": [
    "for key, value in _dict.items():\n",
    "    print (key, value)"
   ]
  },
  {
   "cell_type": "markdown",
   "metadata": {},
   "source": [
    "##### Section 5\n",
    "## Functions\n",
    "\n",
    "We also can assign simple tasks to a function"
   ]
  },
  {
   "cell_type": "code",
   "execution_count": null,
   "metadata": {
    "collapsed": true
   },
   "outputs": [],
   "source": [
    "def my_add_function(a,b):\n",
    "    return a+b\n",
    "\n",
    "x = my_add_function(1,1)\n",
    "print(x)"
   ]
  },
  {
   "cell_type": "code",
   "execution_count": null,
   "metadata": {
    "collapsed": false
   },
   "outputs": [],
   "source": [
    ""
   ]
  }
 ],
 "metadata": {
  "kernelspec": {
   "display_name": "Python 3",
   "language": "python",
   "name": "python3"
  },
  "language_info": {
   "codemirror_mode": {
    "name": "ipython",
    "version": 3
   },
   "file_extension": ".py",
   "mimetype": "text/x-python",
   "name": "python",
   "nbconvert_exporter": "python",
   "pygments_lexer": "ipython3",
   "version": "3.5.2"
  }
 },
 "nbformat": 4,
 "nbformat_minor": 0
}
