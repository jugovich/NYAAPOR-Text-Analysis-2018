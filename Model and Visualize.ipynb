{
 "cells": [
  {
   "cell_type": "code",
   "execution_count": null,
   "metadata": {
    "collapsed": false
   },
   "outputs": [],
   "source": [
    "import json\n",
    "import pandas as pd\n",
    "import re\n",
    "import plotly.tools as py_tools\n",
    "import plotly.plotly as py\n",
    "import plotly.graph_objs as go\n",
    "import cufflinks as cf\n",
    "\n",
    "import networkx as nx\n",
    "%matplotlib inline\n",
    "\n",
    "py_tools.set_credentials_file(username='jugovich', api_key='WC5lLddfa2b1T7wuC1pi')"
   ]
  },
  {
   "cell_type": "code",
   "execution_count": null,
   "metadata": {
    "collapsed": false
   },
   "outputs": [],
   "source": [
    "filename = 'reviews.csv'\n",
    "data_directory = r'C:\\Users\\IBM_ADMIN\\Data\\NYAAPOR'\n",
    "\n",
    "df = read_csv(r'{}\\{}'.format(filename, data_directory))"
   ]
  },
  {
   "cell_type": "code",
   "execution_count": 5,
   "metadata": {
    "collapsed": true
   },
   "outputs": [
    {
     "name": "stdout",
     "output_type": "stream",
     "text": [
      "Extracting tf-idf features for NMF...\n",
      "\n",
      "Topics in NMF model:\n",
      "Topic #0:\n",
      "ibm, sales, manager, specialist, leader, client, watson, technical, account, executive, global, analytics, guidelines, working, systems, partner, represent, follows, managed, team\n",
      "Topic #1:\n",
      "engineer, software, development, systems, senior, computer, engineering, electrical, electronics, hardware, architect, distinguished, working, network, entrepreneur, mechanical, java, support, sales, researcher\n",
      "Topic #2:\n",
      "data, big, analytics, scientist, learning, machine, intelligence, bigdata, mining, analyst, science, predictive, visualization, iot, bi, analysis, interested, ai, datascience, driven\n",
      "Topic #3:\n",
      "tweets, ibmer, personal, opinion, sales, endorsements, reflect, represent, mom, retweets, thoughts, travel, endorsement, rts, employer, passionate, view, wife, analytics, disclaimer\n",
      "Topic #4:\n",
      "developer, web, software, java, stack, mobile, ios, android, application, app, enthusiast, javascript, end, programmer, php, freelance, architect, game, python, gamer\n",
      "Topic #5:\n",
      "http, com, www, linkedin, https, facebook, instagram, gmail, youtube, org, ly, bit, wordpress, net, blog, twitter, tumblr, blogspot, visit, uk\n",
      "Topic #6:\n",
      "marketing, manager, professional, communications, product, content, project, analytics, b2b, online, passionate, portfolio, seo, socialmedia, strategy, communication, advertising, branding, agency, channel\n",
      "Topic #7:\n",
      "life, live, living, good, sciences, enjoy, make, loving, enjoying, lover, work, family, simple, just, short, long, passionate, happy, people, learner\n",
      "Topic #8:\n",
      "love, music, live, travel, family, things, people, god, laugh, food, friends, good, like, sports, new, work, learn, photography, traveling, reading\n",
      "Topic #9:\n",
      "student, university, engineering, phd, graduate, grad, cs, college, school, information, intern, master, systems, mba, year, interested, ph, law, management, msc\n",
      "Topic #10:\n",
      "digital, sales, innovation, transformation, strategy, strategist, health, marketer, iot, specialist, commerce, passionate, leader, experience, head, media, content, mobile, fintech, agency\n",
      "Topic #11:\n",
      "science, computer, university, engineering, learning, phd, machine, research, researcher, scientist, programmer, engineer, professor, geek, graduate, systems, math, interested, studying, space\n",
      "Topic #12:\n",
      "business, development, intelligence, analytics, management, global, services, partner, solutions, analyst, consulting, manager, executive, school, leader, strategy, professional, process, international, transformation\n",
      "Topic #13:\n",
      "founder, ceo, entrepreneur, cto, startup, investor, speaker, president, ai, author, startups, innovation, partner, innovator, passionate, advisor, chief, board, member, expert\n",
      "Topic #14:\n",
      "consultant, management, senior, strategy, sap, entrepreneur, managing, project, speaker, security, information, healthcare, freelance, bi, hr, independent, author, sr, trainer, change\n",
      "Topic #15:\n",
      "opinions, expressed, ibmer, represent, necessarily, don, positions, strategies, employer, postings, endorsements, thoughts, site, rts, reflect, personal, shared, work, mom, proud\n",
      "Topic #16:\n",
      "technology, innovation, information, passionate, interested, healthcare, enthusiast, people, professional, global, health, news, education, consulting, services, passion, new, management, solutions, sports\n",
      "Topic #17:\n",
      "tech, enthusiast, lover, music, geek, sports, travel, fan, things, entrepreneur, food, news, writer, junkie, nerd, foodie, photography, startups, iot, traveler\n",
      "Topic #18:\n",
      "cloud, solutions, architect, services, iot, mobile, security, enterprise, computing, bigdata, infrastructure, analytics, management, solution, provider, devops, bluemix, service, consulting, cognitive\n",
      "Topic #19:\n",
      "design, designer, ux, web, experience, product, graphic, innovation, ui, development, user, creative, art, researcher, interaction, strategy, thinking, visual, thinker, artist\n",
      "Topic #20:\n",
      "views, expressed, ibmer, personal, employer, reflect, working, work, endorsements, passionate, endorsement, uk, represent, marketer, rt, retweets, hr, rts, manager, europe\n",
      "Topic #21:\n",
      "social, media, computing, guidelines, account, twitter, follows, official, managed, mobile, collaboration, news, pr, web, content, new, follow, interested, strategist, following\n",
      "Topic #22:\n",
      "world, just, better, make, change, time, people, things, place, traveler, trying, want, best, new, working, hello, like, passionate, real, changing\n",
      "Topic #23:\n",
      "director, managing, creative, research, executive, account, strategy, art, program, global, communications, group, healthcare, management, services, senior, health, client, operations, product\n",
      "Topic #24:\n",
      "husband, father, ibmer, dad, fan, proud, son, sports, professional, runner, geek, brother, guy, friend, lover, coach, christian, golfer, leader, entrepreneur\n",
      "\n"
     ]
    }
   ],
   "source": [
    "from sklearn.feature_extraction.text import TfidfVectorizer\n",
    "from sklearn.decomposition import NMF\n",
    "\n",
    "n_samples = 50000\n",
    "n_features = 20000\n",
    "n_topics = 25\n",
    "n_top_words = 20\n",
    "\n",
    "def print_top_words(model, feature_names, n_top_words):\n",
    "    for topic_idx, topic in enumerate(model.components_):\n",
    "        print(\"Topic #%d:\" % topic_idx)\n",
    "        print(\", \".join([feature_names[i]\n",
    "                        for i in topic.argsort()[:-n_top_words - 1:-1]]))\n",
    "    print()\n",
    "\n",
    "print(\"Extracting tf-idf features for NMF...\")\n",
    "tfidf_vectorizer = TfidfVectorizer(max_df=0.95, min_df=2, #max_features=n_features,\n",
    "                                   stop_words='english')\n",
    "tfidf = tfidf_vectorizer.fit_transform(df.description)\n",
    "\n",
    "nmf = NMF(n_components=n_topics, random_state=1, alpha=.1, l1_ratio=.5).fit(tfidf)\n",
    "print(\"\\nTopics in NMF model:\")\n",
    "tfidf_feature_names = tfidf_vectorizer.get_feature_names()\n",
    "\n",
    "top_scores = []\n",
    "\n",
    "def print_top_words(model, feature_names, n_top_words):\n",
    "    for topic_idx, topic in enumerate(model.components_):\n",
    "        print(\"Topic #%d:\" % topic_idx)\n",
    "        print(\", \".join([feature_names[i]\n",
    "                        for i in topic.argsort()[:-n_top_words - 1:-1]]))\n",
    "    print()\n",
    "\n",
    "print_top_words(nmf, tfidf_feature_names, n_top_words)"
   ]
  },
  {
   "cell_type": "code",
   "execution_count": 44,
   "metadata": {
    "collapsed": false
   },
   "outputs": [],
   "source": [
    "top_scores = []\n",
    "\n",
    "labels = ['IBMer (Managers)', 'System Engineer', 'Data Science', 'IBMer (female)', \n",
    "          'Web Developer', 'Social Media Ref', 'Marketing', 'Quality of Life', 'Passion',\n",
    "          'Student', 'Digital', 'Student', 'Business', 'C-Suite', 'Consultant', 'Opinions', 'Tehcnology',\n",
    "          'Interests', 'Cloud', 'Design', 'Values', 'Social Media', 'World', 'Director', 'Husband']\n",
    "\n",
    "for index, _topic_scores in enumerate(nmf.transform(tfidf_vectorizer.transform(df.description))):\n",
    "    _top_scores = [df.iloc[index]['job_title_new']]\n",
    "    \n",
    "    _scores = [(labels[i], _score) for i, _score in enumerate(_topic_scores)]\n",
    "    \n",
    "    for _ in sorted(_scores, reverse=True, key=lambda item: item[1])[:3]:\n",
    "        _top_scores.extend(list(_))\n",
    "    \n",
    "    top_scores.append(_top_scores)\n",
    "\n",
    "df_roles = pd.DataFrame(top_scores)"
   ]
  },
  {
   "cell_type": "code",
   "execution_count": 45,
   "metadata": {
    "collapsed": false
   },
   "outputs": [
    {
     "data": {
      "text/html": [
       "<iframe id=\"igraph\" scrolling=\"no\" style=\"border:none;\" seamless=\"seamless\" src=\"https://plot.ly/~jugovich/5.embed\" height=\"525px\" width=\"100%\"></iframe>"
      ],
      "text/plain": [
       "<plotly.tools.PlotlyDisplay object>"
      ]
     },
     "execution_count": 45,
     "metadata": {},
     "output_type": "execute_result"
    }
   ],
   "source": [
    "series = df_roles[1].value_counts()\n",
    "\n",
    "\n",
    "series.iplot(kind='bar', \n",
    "             xTitle='Segment', \n",
    "             yTitle='Number of IBMWatson followers', \n",
    "             title='Early Adopter Segments')"
   ]
  },
  {
   "cell_type": "code",
   "execution_count": 46,
   "metadata": {
    "collapsed": false
   },
   "outputs": [
    {
     "data": {
      "text/html": [
       "<iframe id=\"igraph\" scrolling=\"no\" style=\"border:none;\" seamless=\"seamless\" src=\"https://plot.ly/~jugovich/5.embed\" height=\"525px\" width=\"100%\"></iframe>"
      ],
      "text/plain": [
       "<plotly.tools.PlotlyDisplay object>"
      ]
     },
     "execution_count": 46,
     "metadata": {},
     "output_type": "execute_result"
    }
   ],
   "source": [
    "series = df_roles[3].value_counts()\n",
    "\n",
    "\n",
    "series.iplot(kind='bar', \n",
    "             xTitle='Segment', \n",
    "             yTitle='Number of IBMWatson followers', \n",
    "             title='Early Adopter Segments')"
   ]
  },
  {
   "cell_type": "code",
   "execution_count": 47,
   "metadata": {
    "collapsed": false
   },
   "outputs": [
    {
     "data": {
      "text/html": [
       "<iframe id=\"igraph\" scrolling=\"no\" style=\"border:none;\" seamless=\"seamless\" src=\"https://plot.ly/~jugovich/5.embed\" height=\"525px\" width=\"100%\"></iframe>"
      ],
      "text/plain": [
       "<plotly.tools.PlotlyDisplay object>"
      ]
     },
     "execution_count": 47,
     "metadata": {},
     "output_type": "execute_result"
    }
   ],
   "source": [
    "series = df_roles[df_roles[1] == 'IBMer (Managers)'][3].value_counts()\n",
    "\n",
    "series.iplot(kind='bar', \n",
    "             xTitle='Segment', \n",
    "             yTitle='Number of IBMWatson followers', \n",
    "             title='Early Adopter Segments')"
   ]
  },
  {
   "cell_type": "code",
   "execution_count": 48,
   "metadata": {
    "collapsed": false
   },
   "outputs": [
    {
     "data": {
      "text/html": [
       "<iframe id=\"igraph\" scrolling=\"no\" style=\"border:none;\" seamless=\"seamless\" src=\"https://plot.ly/~jugovich/5.embed\" height=\"525px\" width=\"100%\"></iframe>"
      ],
      "text/plain": [
       "<plotly.tools.PlotlyDisplay object>"
      ]
     },
     "execution_count": 48,
     "metadata": {},
     "output_type": "execute_result"
    }
   ],
   "source": [
    "series = df_roles[df_roles[1] != 'IBMer (Managers)'][1].value_counts()\n",
    "\n",
    "series.iplot(kind='bar', \n",
    "             xTitle='Segment', \n",
    "             yTitle='Number of IBMWatson followers', \n",
    "             title='Early Adopter Segments')"
   ]
  },
  {
   "cell_type": "code",
   "execution_count": 49,
   "metadata": {
    "collapsed": false
   },
   "outputs": [
    {
     "data": {
      "text/html": [
       "<iframe id=\"igraph\" scrolling=\"no\" style=\"border:none;\" seamless=\"seamless\" src=\"https://plot.ly/~jugovich/5.embed\" height=\"525px\" width=\"100%\"></iframe>"
      ],
      "text/plain": [
       "<plotly.tools.PlotlyDisplay object>"
      ]
     },
     "execution_count": 49,
     "metadata": {},
     "output_type": "execute_result"
    }
   ],
   "source": [
    "series = df_roles[df_roles[0] == 'C-Suite'][1].value_counts()\n",
    "\n",
    "series.iplot(kind='bar', \n",
    "             xTitle='Segment', \n",
    "             yTitle='Number of IBMWatson followers', \n",
    "             title='C-Suite Primary Topic')"
   ]
  },
  {
   "cell_type": "code",
   "execution_count": 51,
   "metadata": {
    "collapsed": false
   },
   "outputs": [
    {
     "data": {
      "text/html": [
       "<iframe id=\"igraph\" scrolling=\"no\" style=\"border:none;\" seamless=\"seamless\" src=\"https://plot.ly/~jugovich/5.embed\" height=\"525px\" width=\"100%\"></iframe>"
      ],
      "text/plain": [
       "<plotly.tools.PlotlyDisplay object>"
      ]
     },
     "execution_count": 51,
     "metadata": {},
     "output_type": "execute_result"
    }
   ],
   "source": [
    "series = df_roles[df_roles[0] == 'C-Suite'][3].value_counts()\n",
    "\n",
    "series.iplot(kind='bar', \n",
    "             xTitle='Segment', \n",
    "             yTitle='Number of IBMWatson followers', \n",
    "             title='C-Suite Secondary Topic')"
   ]
  },
  {
   "cell_type": "code",
   "execution_count": 52,
   "metadata": {
    "collapsed": false
   },
   "outputs": [
    {
     "data": {
      "text/html": [
       "<iframe id=\"igraph\" scrolling=\"no\" style=\"border:none;\" seamless=\"seamless\" src=\"https://plot.ly/~jugovich/5.embed\" height=\"525px\" width=\"100%\"></iframe>"
      ],
      "text/plain": [
       "<plotly.tools.PlotlyDisplay object>"
      ]
     },
     "execution_count": 52,
     "metadata": {},
     "output_type": "execute_result"
    }
   ],
   "source": [
    "series = df_roles[df_roles[0] == 'C-Suite'][5].value_counts()\n",
    "\n",
    "series.iplot(kind='bar', \n",
    "             xTitle='Segment', \n",
    "             yTitle='Number of IBMWatson followers', \n",
    "             title='C-Suite 3rd Topic')"
   ]
  },
  {
   "cell_type": "code",
   "execution_count": null,
   "metadata": {
    "collapsed": true
   },
   "outputs": [],
   "source": [
    ""
   ]
  }
 ],
 "metadata": {
  "kernelspec": {
   "display_name": "Python 3",
   "language": "python",
   "name": "python3"
  },
  "language_info": {
   "codemirror_mode": {
    "name": "ipython",
    "version": 3
   },
   "file_extension": ".py",
   "mimetype": "text/x-python",
   "name": "python",
   "nbconvert_exporter": "python",
   "pygments_lexer": "ipython3",
   "version": "3.5.2"
  }
 },
 "nbformat": 4,
 "nbformat_minor": 0
}
