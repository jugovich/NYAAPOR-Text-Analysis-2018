{
 "cells": [
  {
   "cell_type": "markdown",
   "metadata": {
    "collapsed": true
   },
   "source": [
    "# Data exploration\n",
    "\n",
    "When conducting a data analysis / mining project it is essential that one has an understanding of how collected data can be most effectively used to gain insights and knowledge relative to business objectives.  Data exploration is an iterative process that should be revisited after making adjustments to data (processing / transformations), after building initial models (validate assumptions), etc.  \n",
    "\n",
    "### Some goals of data exploration\n",
    "\n",
    "- select key variables\n",
    "- explore relations between variables\n",
    "- identify required data transformations\n",
    "- validate model assumptions"
   ]
  },
  {
   "cell_type": "code",
   "execution_count": 2,
   "metadata": {
    "collapsed": false
   },
   "outputs": [],
   "source": [
    "# System imports\n",
    "import gzip\n",
    "import pickle\n",
    "\n",
    "# third party import\n",
    "import pandas as pd\n",
    "import matplotlib.pyplot as plt"
   ]
  },
  {
   "cell_type": "markdown",
   "metadata": {
    "collapsed": true
   },
   "source": [
    "Setup Visualization framework"
   ]
  },
  {
   "cell_type": "code",
   "execution_count": 3,
   "metadata": {
    "collapsed": true
   },
   "outputs": [
    {
     "data": {
      "text/plain": [
       "<matplotlib.figure.Figure at 0x96802e8>"
      ]
     },
     "metadata": {},
     "output_type": "display_data"
    }
   ],
   "source": [
    "# display charts within juniper notebooks\n",
    "%matplotlib inline \n",
    "plt.style.use('ggplot') \n",
    "fig1 = plt.figure()"
   ]
  },
  {
   "cell_type": "markdown",
   "metadata": {},
   "source": [
    "Set Pandas display options"
   ]
  },
  {
   "cell_type": "code",
   "execution_count": 4,
   "metadata": {
    "collapsed": false
   },
   "outputs": [],
   "source": [
    "# set dsiplay format to remove scientific notation to make everything easier to read\n",
    "pd.set_option('display.float_format', lambda x: '%.3f' % x)"
   ]
  },
  {
   "cell_type": "markdown",
   "metadata": {},
   "source": [
    "### Load compressed data into Pandas dataframe"
   ]
  },
  {
   "cell_type": "code",
   "execution_count": 5,
   "metadata": {
    "collapsed": true
   },
   "outputs": [],
   "source": [
    "fp=gzip.open(r'resources\\data\\IBMWatson_followers_entities.pkl.gz','rb') # This assumes that primes.data is already packed with gzip\n",
    "df = pickle.load(fp)\n",
    "fp.close()"
   ]
  },
  {
   "cell_type": "markdown",
   "metadata": {},
   "source": [
    "### First lets look at what the current set of profile features we have available"
   ]
  },
  {
   "cell_type": "code",
   "execution_count": 6,
   "metadata": {
    "collapsed": true
   },
   "outputs": [
    {
     "data": {
      "text/plain": [
       "Index(['blocked_by', 'blocking', 'contributors_enabled', 'created_at',\n",
       "       'default_profile', 'default_profile_image', 'description',\n",
       "       'favourites_count', 'follow_request_sent', 'followers_count',\n",
       "       'following', 'friends_count', 'geo_enabled', 'has_extended_profile',\n",
       "       'id', 'id_str', 'is_translation_enabled', 'is_translator', 'lang',\n",
       "       'listed_count', 'live_following', 'location', 'muting', 'name',\n",
       "       'notifications', 'profile_background_color',\n",
       "       'profile_background_image_url', 'profile_background_image_url_https',\n",
       "       'profile_background_tile', 'profile_banner_url', 'profile_image_url',\n",
       "       'profile_image_url_https', 'profile_link_color',\n",
       "       'profile_sidebar_border_color', 'profile_sidebar_fill_color',\n",
       "       'profile_text_color', 'profile_use_background_image', 'protected',\n",
       "       'screen_name', 'statuses_count', 'time_zone', 'translator_type', 'url',\n",
       "       'utc_offset', 'verified', 'description_entities'],\n",
       "      dtype='object')"
      ]
     },
     "execution_count": 6,
     "metadata": {},
     "output_type": "execute_result"
    }
   ],
   "source": [
    "df.columns"
   ]
  },
  {
   "cell_type": "markdown",
   "metadata": {},
   "source": [
    "### Some of the interesting features are:\n",
    "decription, followers_count, friends_count, lang, location, name, statuses_count, description_entities"
   ]
  },
  {
   "cell_type": "code",
   "execution_count": 8,
   "metadata": {
    "collapsed": true
   },
   "outputs": [
    {
     "data": {
      "text/html": [
       "<div>\n",
       "<table border=\"1\" class=\"dataframe\">\n",
       "  <thead>\n",
       "    <tr style=\"text-align: right;\">\n",
       "      <th></th>\n",
       "      <th>favourites_count</th>\n",
       "      <th>followers_count</th>\n",
       "      <th>friends_count</th>\n",
       "      <th>id</th>\n",
       "      <th>listed_count</th>\n",
       "      <th>statuses_count</th>\n",
       "      <th>utc_offset</th>\n",
       "    </tr>\n",
       "  </thead>\n",
       "  <tbody>\n",
       "    <tr>\n",
       "      <th>count</th>\n",
       "      <td>152790.000</td>\n",
       "      <td>152790.000</td>\n",
       "      <td>152790.000</td>\n",
       "      <td>152790.000</td>\n",
       "      <td>152790.000</td>\n",
       "      <td>152790.000</td>\n",
       "      <td>92328.000</td>\n",
       "    </tr>\n",
       "    <tr>\n",
       "      <th>mean</th>\n",
       "      <td>908.007</td>\n",
       "      <td>1640.123</td>\n",
       "      <td>1166.809</td>\n",
       "      <td>56162242897149584.000</td>\n",
       "      <td>46.976</td>\n",
       "      <td>2578.942</td>\n",
       "      <td>-8789.310</td>\n",
       "    </tr>\n",
       "    <tr>\n",
       "      <th>std</th>\n",
       "      <td>5842.910</td>\n",
       "      <td>33009.746</td>\n",
       "      <td>12177.732</td>\n",
       "      <td>197346215690502880.000</td>\n",
       "      <td>280.176</td>\n",
       "      <td>14237.006</td>\n",
       "      <td>18209.909</td>\n",
       "    </tr>\n",
       "    <tr>\n",
       "      <th>min</th>\n",
       "      <td>0.000</td>\n",
       "      <td>0.000</td>\n",
       "      <td>0.000</td>\n",
       "      <td>12.000</td>\n",
       "      <td>0.000</td>\n",
       "      <td>0.000</td>\n",
       "      <td>-39600.000</td>\n",
       "    </tr>\n",
       "    <tr>\n",
       "      <th>25%</th>\n",
       "      <td>4.000</td>\n",
       "      <td>27.000</td>\n",
       "      <td>114.000</td>\n",
       "      <td>100502821.750</td>\n",
       "      <td>0.000</td>\n",
       "      <td>22.000</td>\n",
       "      <td>-21600.000</td>\n",
       "    </tr>\n",
       "    <tr>\n",
       "      <th>50%</th>\n",
       "      <td>37.000</td>\n",
       "      <td>111.000</td>\n",
       "      <td>356.000</td>\n",
       "      <td>473653893.000</td>\n",
       "      <td>3.000</td>\n",
       "      <td>197.000</td>\n",
       "      <td>-18000.000</td>\n",
       "    </tr>\n",
       "    <tr>\n",
       "      <th>75%</th>\n",
       "      <td>293.000</td>\n",
       "      <td>378.000</td>\n",
       "      <td>1026.000</td>\n",
       "      <td>2689719719.000</td>\n",
       "      <td>19.000</td>\n",
       "      <td>1189.000</td>\n",
       "      <td>3600.000</td>\n",
       "    </tr>\n",
       "    <tr>\n",
       "      <th>max</th>\n",
       "      <td>449170.000</td>\n",
       "      <td>4727723.000</td>\n",
       "      <td>3117511.000</td>\n",
       "      <td>809434462425640960.000</td>\n",
       "      <td>26821.000</td>\n",
       "      <td>1236368.000</td>\n",
       "      <td>46800.000</td>\n",
       "    </tr>\n",
       "  </tbody>\n",
       "</table>\n",
       "</div>"
      ],
      "text/plain": [
       "       favourites_count  followers_count  friends_count  \\\n",
       "count        152790.000       152790.000     152790.000   \n",
       "mean            908.007         1640.123       1166.809   \n",
       "std            5842.910        33009.746      12177.732   \n",
       "min               0.000            0.000          0.000   \n",
       "25%               4.000           27.000        114.000   \n",
       "50%              37.000          111.000        356.000   \n",
       "75%             293.000          378.000       1026.000   \n",
       "max          449170.000      4727723.000    3117511.000   \n",
       "\n",
       "                          id  listed_count  statuses_count  utc_offset  \n",
       "count             152790.000    152790.000      152790.000   92328.000  \n",
       "mean   56162242897149584.000        46.976        2578.942   -8789.310  \n",
       "std   197346215690502880.000       280.176       14237.006   18209.909  \n",
       "min                   12.000         0.000           0.000  -39600.000  \n",
       "25%            100502821.750         0.000          22.000  -21600.000  \n",
       "50%            473653893.000         3.000         197.000  -18000.000  \n",
       "75%           2689719719.000        19.000        1189.000    3600.000  \n",
       "max   809434462425640960.000     26821.000     1236368.000   46800.000  "
      ]
     },
     "execution_count": 8,
     "metadata": {},
     "output_type": "execute_result"
    }
   ],
   "source": [
    "# When called on a DataFrame, describe generates various summary statistics, excluding NaN values.\n",
    "df.describe()"
   ]
  },
  {
   "cell_type": "markdown",
   "metadata": {},
   "source": [
    "### Lets take a look at followers"
   ]
  },
  {
   "cell_type": "code",
   "execution_count": 9,
   "metadata": {
    "collapsed": true
   },
   "outputs": [
    {
     "data": {
      "text/plain": [
       "count    152790.000\n",
       "mean       1640.123\n",
       "std       33009.746\n",
       "min           0.000\n",
       "0%            0.000\n",
       "25%          27.000\n",
       "50%         111.000\n",
       "75%         378.000\n",
       "85%         707.000\n",
       "90%        1097.000\n",
       "95%        2259.000\n",
       "99%       17530.300\n",
       "99.9%    209921.739\n",
       "max     4727723.000\n",
       "Name: followers_count, dtype: float64"
      ]
     },
     "execution_count": 9,
     "metadata": {},
     "output_type": "execute_result"
    }
   ],
   "source": [
    "# Describe can also be called on a Series (DataFrame column)\n",
    "# Describe allows various parameters to control what stats are generated\n",
    "# Pass a list of float values to set which percentiles to display\n",
    "df.followers_count.describe(percentiles=[0,.25,.5,.75,.85,.90,.95,.99,.999])"
   ]
  },
  {
   "cell_type": "code",
   "execution_count": 10,
   "metadata": {
    "collapsed": true
   },
   "outputs": [
    {
     "data": {
      "text/plain": [
       "7639"
      ]
     },
     "execution_count": 10,
     "metadata": {},
     "output_type": "execute_result"
    }
   ],
   "source": [
    "# len -> a function that returns the length of a object, \n",
    "# when called on a Pandas Series will return the number of elements in the list\n",
    "# DataFrames allow for boolean indexing, we can pass an expression that will be called on each element in the series \n",
    "len(df[df.followers_count > 2259])"
   ]
  },
  {
   "cell_type": "code",
   "execution_count": 11,
   "metadata": {
    "collapsed": true
   },
   "outputs": [
    {
     "data": {
      "text/plain": [
       "<matplotlib.axes._subplots.AxesSubplot at 0x2026e5c0>"
      ]
     },
     "execution_count": 11,
     "metadata": {},
     "output_type": "execute_result"
    },
    {
     "data": {
      "image/png": "[encoded data removed]",
      "text/plain": [
       "<matplotlib.figure.Figure at 0x1cc3f198>"
      ]
     },
     "metadata": {},
     "output_type": "display_data"
    }
   ],
   "source": [
    "# pandas provides easy plotting through matplotlib\n",
    "# for example to display the histogram of followers_count we do:\n",
    "df[df.followers_count < 2259].followers_count.plot.hist()"
   ]
  },
  {
   "cell_type": "code",
   "execution_count": 12,
   "metadata": {
    "collapsed": true
   },
   "outputs": [
    {
     "data": {
      "text/html": [
       "<div>\n",
       "<table border=\"1\" class=\"dataframe\">\n",
       "  <thead>\n",
       "    <tr style=\"text-align: right;\">\n",
       "      <th></th>\n",
       "      <th>blocked_by</th>\n",
       "      <th>blocking</th>\n",
       "      <th>contributors_enabled</th>\n",
       "      <th>created_at</th>\n",
       "      <th>default_profile</th>\n",
       "      <th>default_profile_image</th>\n",
       "      <th>description</th>\n",
       "      <th>favourites_count</th>\n",
       "      <th>follow_request_sent</th>\n",
       "      <th>followers_count</th>\n",
       "      <th>...</th>\n",
       "      <th>profile_use_background_image</th>\n",
       "      <th>protected</th>\n",
       "      <th>screen_name</th>\n",
       "      <th>statuses_count</th>\n",
       "      <th>time_zone</th>\n",
       "      <th>translator_type</th>\n",
       "      <th>url</th>\n",
       "      <th>utc_offset</th>\n",
       "      <th>verified</th>\n",
       "      <th>description_entities</th>\n",
       "    </tr>\n",
       "  </thead>\n",
       "  <tbody>\n",
       "    <tr>\n",
       "      <th>738</th>\n",
       "      <td>False</td>\n",
       "      <td>False</td>\n",
       "      <td>False</td>\n",
       "      <td>Thu Sep 24 15:31:23 +0000 2009</td>\n",
       "      <td>False</td>\n",
       "      <td>False</td>\n",
       "      <td>Entrepreneur and connector. Founder of @Due I ...</td>\n",
       "      <td>10481</td>\n",
       "      <td>False</td>\n",
       "      <td>1229130</td>\n",
       "      <td>...</td>\n",
       "      <td>True</td>\n",
       "      <td>False</td>\n",
       "      <td>johnrampton</td>\n",
       "      <td>14780</td>\n",
       "      <td>Mountain Time (US &amp; Canada)</td>\n",
       "      <td>none</td>\n",
       "      <td>http://www.johnrampton.com</td>\n",
       "      <td>-25200.000</td>\n",
       "      <td>True</td>\n",
       "      <td>{\"url\": \"\", \"entities\": [{\"text\": \"Founder\", \"...</td>\n",
       "    </tr>\n",
       "    <tr>\n",
       "      <th>2726</th>\n",
       "      <td>False</td>\n",
       "      <td>False</td>\n",
       "      <td>False</td>\n",
       "      <td>Tue Apr 21 14:43:32 +0000 2009</td>\n",
       "      <td>False</td>\n",
       "      <td>False</td>\n",
       "      <td>Entertainment Mogul |Award Winning YouTube Art...</td>\n",
       "      <td>9105</td>\n",
       "      <td>False</td>\n",
       "      <td>4220500</td>\n",
       "      <td>...</td>\n",
       "      <td>True</td>\n",
       "      <td>False</td>\n",
       "      <td>6BillionPeople</td>\n",
       "      <td>177297</td>\n",
       "      <td>Central Time (US &amp; Canada)</td>\n",
       "      <td>regular</td>\n",
       "      <td>https://www.youtube.com/channel/UCOXi3v4qlMagg...</td>\n",
       "      <td>-21600.000</td>\n",
       "      <td>True</td>\n",
       "      <td>{\"url\": \"\", \"entities\": [{\"text\": \"YouTube\", \"...</td>\n",
       "    </tr>\n",
       "    <tr>\n",
       "      <th>5152</th>\n",
       "      <td>False</td>\n",
       "      <td>False</td>\n",
       "      <td>False</td>\n",
       "      <td>Tue Oct 13 02:47:15 +0000 2009</td>\n",
       "      <td>False</td>\n",
       "      <td>False</td>\n",
       "      <td>CEO No Limit East. Award winning music produce...</td>\n",
       "      <td>101</td>\n",
       "      <td>False</td>\n",
       "      <td>1047059</td>\n",
       "      <td>...</td>\n",
       "      <td>False</td>\n",
       "      <td>False</td>\n",
       "      <td>nine_oh</td>\n",
       "      <td>1236368</td>\n",
       "      <td>Central Time (US &amp; Canada)</td>\n",
       "      <td>regular</td>\n",
       "      <td>http://nineoh.us</td>\n",
       "      <td>-21600.000</td>\n",
       "      <td>True</td>\n",
       "      <td>{\"url\": \"\", \"entities\": [{\"text\": \"CEO\", \"type...</td>\n",
       "    </tr>\n",
       "    <tr>\n",
       "      <th>8486</th>\n",
       "      <td>False</td>\n",
       "      <td>False</td>\n",
       "      <td>False</td>\n",
       "      <td>Tue Jul 31 19:36:19 +0000 2012</td>\n",
       "      <td>True</td>\n",
       "      <td>False</td>\n",
       "      <td>Trained Hero Service Dog/Search &amp; Rescue/Cadav...</td>\n",
       "      <td>114296</td>\n",
       "      <td>False</td>\n",
       "      <td>1820579</td>\n",
       "      <td>...</td>\n",
       "      <td>True</td>\n",
       "      <td>False</td>\n",
       "      <td>MaggieHeroDog</td>\n",
       "      <td>5598</td>\n",
       "      <td>Eastern Time (US &amp; Canada)</td>\n",
       "      <td>none</td>\n",
       "      <td>None</td>\n",
       "      <td>-18000.000</td>\n",
       "      <td>False</td>\n",
       "      <td>{\"url\": \"\", \"entities\": [{\"text\": \"Golf\", \"typ...</td>\n",
       "    </tr>\n",
       "    <tr>\n",
       "      <th>15991</th>\n",
       "      <td>False</td>\n",
       "      <td>False</td>\n",
       "      <td>False</td>\n",
       "      <td>Wed May 23 22:50:33 +0000 2007</td>\n",
       "      <td>False</td>\n",
       "      <td>False</td>\n",
       "      <td>OAKLANDFIGHTCLUB IIIXX OPUS #WeGottaDoBetter #...</td>\n",
       "      <td>30617</td>\n",
       "      <td>False</td>\n",
       "      <td>3710090</td>\n",
       "      <td>...</td>\n",
       "      <td>True</td>\n",
       "      <td>False</td>\n",
       "      <td>MCHammer</td>\n",
       "      <td>62650</td>\n",
       "      <td>Pacific Time (US &amp; Canada)</td>\n",
       "      <td>none</td>\n",
       "      <td>None</td>\n",
       "      <td>-28800.000</td>\n",
       "      <td>True</td>\n",
       "      <td>{\"url\": \"\", \"entities\": [{\"text\": \"#WeGottaDoB...</td>\n",
       "    </tr>\n",
       "  </tbody>\n",
       "</table>\n",
       "<p>5 rows × 46 columns</p>\n",
       "</div>"
      ],
      "text/plain": [
       "      blocked_by blocking contributors_enabled  \\\n",
       "738        False    False                False   \n",
       "2726       False    False                False   \n",
       "5152       False    False                False   \n",
       "8486       False    False                False   \n",
       "15991      False    False                False   \n",
       "\n",
       "                           created_at default_profile default_profile_image  \\\n",
       "738    Thu Sep 24 15:31:23 +0000 2009           False                 False   \n",
       "2726   Tue Apr 21 14:43:32 +0000 2009           False                 False   \n",
       "5152   Tue Oct 13 02:47:15 +0000 2009           False                 False   \n",
       "8486   Tue Jul 31 19:36:19 +0000 2012            True                 False   \n",
       "15991  Wed May 23 22:50:33 +0000 2007           False                 False   \n",
       "\n",
       "                                             description  favourites_count  \\\n",
       "738    Entrepreneur and connector. Founder of @Due I ...             10481   \n",
       "2726   Entertainment Mogul |Award Winning YouTube Art...              9105   \n",
       "5152   CEO No Limit East. Award winning music produce...               101   \n",
       "8486   Trained Hero Service Dog/Search & Rescue/Cadav...            114296   \n",
       "15991  OAKLANDFIGHTCLUB IIIXX OPUS #WeGottaDoBetter #...             30617   \n",
       "\n",
       "      follow_request_sent  followers_count  \\\n",
       "738                 False          1229130   \n",
       "2726                False          4220500   \n",
       "5152                False          1047059   \n",
       "8486                False          1820579   \n",
       "15991               False          3710090   \n",
       "\n",
       "                             ...                          \\\n",
       "738                          ...                           \n",
       "2726                         ...                           \n",
       "5152                         ...                           \n",
       "8486                         ...                           \n",
       "15991                        ...                           \n",
       "\n",
       "      profile_use_background_image  protected     screen_name statuses_count  \\\n",
       "738                           True      False     johnrampton          14780   \n",
       "2726                          True      False  6BillionPeople         177297   \n",
       "5152                         False      False         nine_oh        1236368   \n",
       "8486                          True      False   MaggieHeroDog           5598   \n",
       "15991                         True      False        MCHammer          62650   \n",
       "\n",
       "                         time_zone translator_type  \\\n",
       "738    Mountain Time (US & Canada)            none   \n",
       "2726    Central Time (US & Canada)         regular   \n",
       "5152    Central Time (US & Canada)         regular   \n",
       "8486    Eastern Time (US & Canada)            none   \n",
       "15991   Pacific Time (US & Canada)            none   \n",
       "\n",
       "                                                     url utc_offset verified  \\\n",
       "738                           http://www.johnrampton.com -25200.000     True   \n",
       "2726   https://www.youtube.com/channel/UCOXi3v4qlMagg... -21600.000     True   \n",
       "5152                                    http://nineoh.us -21600.000     True   \n",
       "8486                                                None -18000.000    False   \n",
       "15991                                               None -28800.000     True   \n",
       "\n",
       "                                    description_entities  \n",
       "738    {\"url\": \"\", \"entities\": [{\"text\": \"Founder\", \"...  \n",
       "2726   {\"url\": \"\", \"entities\": [{\"text\": \"YouTube\", \"...  \n",
       "5152   {\"url\": \"\", \"entities\": [{\"text\": \"CEO\", \"type...  \n",
       "8486   {\"url\": \"\", \"entities\": [{\"text\": \"Golf\", \"typ...  \n",
       "15991  {\"url\": \"\", \"entities\": [{\"text\": \"#WeGottaDoB...  \n",
       "\n",
       "[5 rows x 46 columns]"
      ]
     },
     "execution_count": 12,
     "metadata": {},
     "output_type": "execute_result"
    }
   ],
   "source": [
    "# What does this do?\n",
    "df[df.followers_count > 1000000].head()"
   ]
  },
  {
   "cell_type": "code",
   "execution_count": 13,
   "metadata": {
    "collapsed": true
   },
   "outputs": [
    {
     "data": {
      "text/html": [
       "<div>\n",
       "<table border=\"1\" class=\"dataframe\">\n",
       "  <thead>\n",
       "    <tr style=\"text-align: right;\">\n",
       "      <th></th>\n",
       "      <th>name</th>\n",
       "      <th>description</th>\n",
       "      <th>url</th>\n",
       "    </tr>\n",
       "  </thead>\n",
       "  <tbody>\n",
       "    <tr>\n",
       "      <th>738</th>\n",
       "      <td>John Rampton</td>\n",
       "      <td>Entrepreneur and connector. Founder of @Due I ...</td>\n",
       "      <td>http://www.johnrampton.com</td>\n",
       "    </tr>\n",
       "    <tr>\n",
       "      <th>2726</th>\n",
       "      <td>MarQuis Trill</td>\n",
       "      <td>Entertainment Mogul |Award Winning YouTube Art...</td>\n",
       "      <td>https://www.youtube.com/channel/UCOXi3v4qlMagg...</td>\n",
       "    </tr>\n",
       "    <tr>\n",
       "      <th>5152</th>\n",
       "      <td>Producer 9-0🎧🎶👉</td>\n",
       "      <td>CEO No Limit East. Award winning music produce...</td>\n",
       "      <td>http://nineoh.us</td>\n",
       "    </tr>\n",
       "    <tr>\n",
       "      <th>8486</th>\n",
       "      <td>MaggieHeroDog</td>\n",
       "      <td>Trained Hero Service Dog/Search &amp; Rescue/Cadav...</td>\n",
       "      <td>None</td>\n",
       "    </tr>\n",
       "    <tr>\n",
       "      <th>15991</th>\n",
       "      <td>MC HAMMER</td>\n",
       "      <td>OAKLANDFIGHTCLUB IIIXX OPUS #WeGottaDoBetter #...</td>\n",
       "      <td>None</td>\n",
       "    </tr>\n",
       "    <tr>\n",
       "      <th>19286</th>\n",
       "      <td>Nokia</td>\n",
       "      <td>Are you ready for a new era of technology? Joi...</td>\n",
       "      <td>http://nokia.com</td>\n",
       "    </tr>\n",
       "    <tr>\n",
       "      <th>28113</th>\n",
       "      <td>🚶🏽jack</td>\n",
       "      <td></td>\n",
       "      <td>None</td>\n",
       "    </tr>\n",
       "    <tr>\n",
       "      <th>31721</th>\n",
       "      <td>Dr. Joyce🌠</td>\n",
       "      <td>#OnlineInternationalImageCoachingCollege, Auth...</td>\n",
       "      <td>http://www.drjoyceknudsen.com</td>\n",
       "    </tr>\n",
       "    <tr>\n",
       "      <th>50609</th>\n",
       "      <td>Life Facts</td>\n",
       "      <td>#LifeFacts Posting whatever I like that's true...</td>\n",
       "      <td>http://getmefamous.com</td>\n",
       "    </tr>\n",
       "    <tr>\n",
       "      <th>51623</th>\n",
       "      <td>Carrie Fisher</td>\n",
       "      <td>theres no room for demons when you're self pos...</td>\n",
       "      <td>http://carriefisher.com/</td>\n",
       "    </tr>\n",
       "    <tr>\n",
       "      <th>54619</th>\n",
       "      <td>Helena-Reet Ennet</td>\n",
       "      <td>Professional travel &amp; entertainment writer, tr...</td>\n",
       "      <td>http://www.ohmygossip.com</td>\n",
       "    </tr>\n",
       "    <tr>\n",
       "      <th>58413</th>\n",
       "      <td>Ustream</td>\n",
       "      <td>The world's most social and scalable live vide...</td>\n",
       "      <td>http://www.ustream.tv</td>\n",
       "    </tr>\n",
       "    <tr>\n",
       "      <th>68596</th>\n",
       "      <td>Verizon</td>\n",
       "      <td>Serving up America's best network 140 characte...</td>\n",
       "      <td>http://www.verizonwireless.com</td>\n",
       "    </tr>\n",
       "    <tr>\n",
       "      <th>72493</th>\n",
       "      <td>Twitter Verified</td>\n",
       "      <td>The blue verified badge on Twitter lets people...</td>\n",
       "      <td>https://support.twitter.com/forms/verify</td>\n",
       "    </tr>\n",
       "    <tr>\n",
       "      <th>89929</th>\n",
       "      <td>Pleasure Ellis</td>\n",
       "      <td>#IAM Founder Chairman of @E2HoldingsLLC @E2ITC...</td>\n",
       "      <td>http://www.e2itproducts.com</td>\n",
       "    </tr>\n",
       "    <tr>\n",
       "      <th>99223</th>\n",
       "      <td>BIG MONEY MIKE</td>\n",
       "      <td>I make money 24/7 FROM #PENNYSTOCKS ! !! Follo...</td>\n",
       "      <td>None</td>\n",
       "    </tr>\n",
       "    <tr>\n",
       "      <th>108637</th>\n",
       "      <td>NVIDIA</td>\n",
       "      <td>The official handle for NVIDIA. Blog: http://b...</td>\n",
       "      <td>http://www.nvidia.com</td>\n",
       "    </tr>\n",
       "    <tr>\n",
       "      <th>109717</th>\n",
       "      <td>Lil B THE BASEDGOD</td>\n",
       "      <td>Mogul, First Rapper Ever To Write And Publish ...</td>\n",
       "      <td>http://www.youtube.com/lilbpack1</td>\n",
       "    </tr>\n",
       "    <tr>\n",
       "      <th>110913</th>\n",
       "      <td>Victorious Marcus</td>\n",
       "      <td>#1RADIO-MTV-UNIVERSAL-AWARDS-SINGER/SONG-MOVIE...</td>\n",
       "      <td>http://www.reverbnation.com/victoriousmarcus</td>\n",
       "    </tr>\n",
       "    <tr>\n",
       "      <th>115641</th>\n",
       "      <td>Count Mervyn Graham</td>\n",
       "      <td>British #YouTuber Ordained Minister, Entertain...</td>\n",
       "      <td>https://www.youtube.com/user/DaminousPurity?su...</td>\n",
       "    </tr>\n",
       "    <tr>\n",
       "      <th>116505</th>\n",
       "      <td>Lord Louis</td>\n",
       "      <td>Lord Louis is an Australian Novelist and He is...</td>\n",
       "      <td>None</td>\n",
       "    </tr>\n",
       "    <tr>\n",
       "      <th>116557</th>\n",
       "      <td>Bon Appétit</td>\n",
       "      <td>Where food and culture meet.</td>\n",
       "      <td>http://www.bonappetit.com</td>\n",
       "    </tr>\n",
       "    <tr>\n",
       "      <th>116718</th>\n",
       "      <td>PeopleSearches.com</td>\n",
       "      <td>Trying to Find People Online? Try #PeopleSearc...</td>\n",
       "      <td>http://PeopleSearches.com</td>\n",
       "    </tr>\n",
       "    <tr>\n",
       "      <th>117437</th>\n",
       "      <td>brandon scott miller</td>\n",
       "      <td>DISNEY ACTOR / 298k verified fb - 17.8k vine l...</td>\n",
       "      <td>None</td>\n",
       "    </tr>\n",
       "    <tr>\n",
       "      <th>123188</th>\n",
       "      <td>Variety</td>\n",
       "      <td>The business of entertainment.</td>\n",
       "      <td>http://www.variety.com</td>\n",
       "    </tr>\n",
       "    <tr>\n",
       "      <th>124794</th>\n",
       "      <td>RIP BIG SYKE</td>\n",
       "      <td>Director, Actor, Producer For New Movie Makave...</td>\n",
       "      <td>http://www.982thebeat.com</td>\n",
       "    </tr>\n",
       "    <tr>\n",
       "      <th>139408</th>\n",
       "      <td>Jonah Lupton</td>\n",
       "      <td>Founder Advisor Investor Speaker: @LuptonGroup...</td>\n",
       "      <td>http://JonahLupton.com</td>\n",
       "    </tr>\n",
       "    <tr>\n",
       "      <th>141822</th>\n",
       "      <td>Geoff De Weaver</td>\n",
       "      <td>Geoff De Weaver - Global Entrepreneur | Digita...</td>\n",
       "      <td>https://www.linkedin.com/in/geoffdeweaver</td>\n",
       "    </tr>\n",
       "    <tr>\n",
       "      <th>145737</th>\n",
       "      <td>HISTORY</td>\n",
       "      <td>Official HISTORY® Twitter. The leading destina...</td>\n",
       "      <td>http://www.history.com/</td>\n",
       "    </tr>\n",
       "  </tbody>\n",
       "</table>\n",
       "</div>"
      ],
      "text/plain": [
       "                        name  \\\n",
       "738             John Rampton   \n",
       "2726           MarQuis Trill   \n",
       "5152         Producer 9-0🎧🎶👉   \n",
       "8486           MaggieHeroDog   \n",
       "15991              MC HAMMER   \n",
       "19286                  Nokia   \n",
       "28113                 🚶🏽jack   \n",
       "31721             Dr. Joyce🌠   \n",
       "50609             Life Facts   \n",
       "51623          Carrie Fisher   \n",
       "54619      Helena-Reet Ennet   \n",
       "58413                Ustream   \n",
       "68596                Verizon   \n",
       "72493       Twitter Verified   \n",
       "89929         Pleasure Ellis   \n",
       "99223         BIG MONEY MIKE   \n",
       "108637                NVIDIA   \n",
       "109717    Lil B THE BASEDGOD   \n",
       "110913     Victorious Marcus   \n",
       "115641   Count Mervyn Graham   \n",
       "116505            Lord Louis   \n",
       "116557           Bon Appétit   \n",
       "116718    PeopleSearches.com   \n",
       "117437  brandon scott miller   \n",
       "123188               Variety   \n",
       "124794          RIP BIG SYKE   \n",
       "139408          Jonah Lupton   \n",
       "141822       Geoff De Weaver   \n",
       "145737               HISTORY   \n",
       "\n",
       "                                              description  \\\n",
       "738     Entrepreneur and connector. Founder of @Due I ...   \n",
       "2726    Entertainment Mogul |Award Winning YouTube Art...   \n",
       "5152    CEO No Limit East. Award winning music produce...   \n",
       "8486    Trained Hero Service Dog/Search & Rescue/Cadav...   \n",
       "15991   OAKLANDFIGHTCLUB IIIXX OPUS #WeGottaDoBetter #...   \n",
       "19286   Are you ready for a new era of technology? Joi...   \n",
       "28113                                                       \n",
       "31721   #OnlineInternationalImageCoachingCollege, Auth...   \n",
       "50609   #LifeFacts Posting whatever I like that's true...   \n",
       "51623   theres no room for demons when you're self pos...   \n",
       "54619   Professional travel & entertainment writer, tr...   \n",
       "58413   The world's most social and scalable live vide...   \n",
       "68596   Serving up America's best network 140 characte...   \n",
       "72493   The blue verified badge on Twitter lets people...   \n",
       "89929   #IAM Founder Chairman of @E2HoldingsLLC @E2ITC...   \n",
       "99223   I make money 24/7 FROM #PENNYSTOCKS ! !! Follo...   \n",
       "108637  The official handle for NVIDIA. Blog: http://b...   \n",
       "109717  Mogul, First Rapper Ever To Write And Publish ...   \n",
       "110913  #1RADIO-MTV-UNIVERSAL-AWARDS-SINGER/SONG-MOVIE...   \n",
       "115641  British #YouTuber Ordained Minister, Entertain...   \n",
       "116505  Lord Louis is an Australian Novelist and He is...   \n",
       "116557                       Where food and culture meet.   \n",
       "116718  Trying to Find People Online? Try #PeopleSearc...   \n",
       "117437  DISNEY ACTOR / 298k verified fb - 17.8k vine l...   \n",
       "123188                     The business of entertainment.   \n",
       "124794  Director, Actor, Producer For New Movie Makave...   \n",
       "139408  Founder Advisor Investor Speaker: @LuptonGroup...   \n",
       "141822  Geoff De Weaver - Global Entrepreneur | Digita...   \n",
       "145737  Official HISTORY® Twitter. The leading destina...   \n",
       "\n",
       "                                                      url  \n",
       "738                            http://www.johnrampton.com  \n",
       "2726    https://www.youtube.com/channel/UCOXi3v4qlMagg...  \n",
       "5152                                     http://nineoh.us  \n",
       "8486                                                 None  \n",
       "15991                                                None  \n",
       "19286                                    http://nokia.com  \n",
       "28113                                                None  \n",
       "31721                       http://www.drjoyceknudsen.com  \n",
       "50609                              http://getmefamous.com  \n",
       "51623                            http://carriefisher.com/  \n",
       "54619                           http://www.ohmygossip.com  \n",
       "58413                               http://www.ustream.tv  \n",
       "68596                      http://www.verizonwireless.com  \n",
       "72493            https://support.twitter.com/forms/verify  \n",
       "89929                         http://www.e2itproducts.com  \n",
       "99223                                                None  \n",
       "108637                              http://www.nvidia.com  \n",
       "109717                   http://www.youtube.com/lilbpack1  \n",
       "110913       http://www.reverbnation.com/victoriousmarcus  \n",
       "115641  https://www.youtube.com/user/DaminousPurity?su...  \n",
       "116505                                               None  \n",
       "116557                          http://www.bonappetit.com  \n",
       "116718                          http://PeopleSearches.com  \n",
       "117437                                               None  \n",
       "123188                             http://www.variety.com  \n",
       "124794                          http://www.982thebeat.com  \n",
       "139408                             http://JonahLupton.com  \n",
       "141822          https://www.linkedin.com/in/geoffdeweaver  \n",
       "145737                            http://www.history.com/  "
      ]
     },
     "execution_count": 13,
     "metadata": {},
     "output_type": "execute_result"
    }
   ],
   "source": [
    "df[df.followers_count > 1000000][['name', 'description', 'url']]"
   ]
  },
  {
   "cell_type": "markdown",
   "metadata": {},
   "source": [
    "### Friends Count\n",
    "The friends count tells us the number of Twitter accounts the user is following"
   ]
  },
  {
   "cell_type": "code",
   "execution_count": 14,
   "metadata": {
    "collapsed": true
   },
   "outputs": [
    {
     "data": {
      "text/plain": [
       "count     152790.000\n",
       "mean        1166.809\n",
       "std        12177.732\n",
       "min            0.000\n",
       "0%             0.000\n",
       "25%          114.000\n",
       "50%          356.000\n",
       "75%         1026.000\n",
       "85%         1759.000\n",
       "90%         2119.000\n",
       "95%         3362.000\n",
       "99%         6572.770\n",
       "99.9%      80312.042\n",
       "100.0%    418890.086\n",
       "max      3117511.000\n",
       "Name: friends_count, dtype: float64"
      ]
     },
     "execution_count": 14,
     "metadata": {},
     "output_type": "execute_result"
    }
   ],
   "source": [
    "df.friends_count.describe(percentiles=[0,.25,.5,.75,.85,.90,.95,.99,.999, .9999])"
   ]
  },
  {
   "cell_type": "markdown",
   "metadata": {},
   "source": [
    "### Our max has over 3 million friends. This is most likely a spam bot, so lets attempt to remove bots "
   ]
  },
  {
   "cell_type": "code",
   "execution_count": 15,
   "metadata": {
    "collapsed": true
   },
   "outputs": [
    {
     "data": {
      "text/html": [
       "<div>\n",
       "<table border=\"1\" class=\"dataframe\">\n",
       "  <thead>\n",
       "    <tr style=\"text-align: right;\">\n",
       "      <th></th>\n",
       "      <th>name</th>\n",
       "      <th>description</th>\n",
       "    </tr>\n",
       "  </thead>\n",
       "  <tbody>\n",
       "    <tr>\n",
       "      <th>15991</th>\n",
       "      <td>MC HAMMER</td>\n",
       "      <td>OAKLANDFIGHTCLUB IIIXX OPUS #WeGottaDoBetter #...</td>\n",
       "    </tr>\n",
       "    <tr>\n",
       "      <th>28113</th>\n",
       "      <td>🚶🏽jack</td>\n",
       "      <td></td>\n",
       "    </tr>\n",
       "    <tr>\n",
       "      <th>50609</th>\n",
       "      <td>Life Facts</td>\n",
       "      <td>#LifeFacts Posting whatever I like that's true...</td>\n",
       "    </tr>\n",
       "    <tr>\n",
       "      <th>51623</th>\n",
       "      <td>Carrie Fisher</td>\n",
       "      <td>theres no room for demons when you're self pos...</td>\n",
       "    </tr>\n",
       "    <tr>\n",
       "      <th>58413</th>\n",
       "      <td>Ustream</td>\n",
       "      <td>The world's most social and scalable live vide...</td>\n",
       "    </tr>\n",
       "    <tr>\n",
       "      <th>68596</th>\n",
       "      <td>Verizon</td>\n",
       "      <td>Serving up America's best network 140 characte...</td>\n",
       "    </tr>\n",
       "    <tr>\n",
       "      <th>108637</th>\n",
       "      <td>NVIDIA</td>\n",
       "      <td>The official handle for NVIDIA. Blog: http://b...</td>\n",
       "    </tr>\n",
       "    <tr>\n",
       "      <th>110913</th>\n",
       "      <td>Victorious Marcus</td>\n",
       "      <td>#1RADIO-MTV-UNIVERSAL-AWARDS-SINGER/SONG-MOVIE...</td>\n",
       "    </tr>\n",
       "    <tr>\n",
       "      <th>116557</th>\n",
       "      <td>Bon Appétit</td>\n",
       "      <td>Where food and culture meet.</td>\n",
       "    </tr>\n",
       "    <tr>\n",
       "      <th>116718</th>\n",
       "      <td>PeopleSearches.com</td>\n",
       "      <td>Trying to Find People Online? Try #PeopleSearc...</td>\n",
       "    </tr>\n",
       "    <tr>\n",
       "      <th>141822</th>\n",
       "      <td>Geoff De Weaver</td>\n",
       "      <td>Geoff De Weaver - Global Entrepreneur | Digita...</td>\n",
       "    </tr>\n",
       "    <tr>\n",
       "      <th>145737</th>\n",
       "      <td>HISTORY</td>\n",
       "      <td>Official HISTORY® Twitter. The leading destina...</td>\n",
       "    </tr>\n",
       "  </tbody>\n",
       "</table>\n",
       "</div>"
      ],
      "text/plain": [
       "                      name                                        description\n",
       "15991            MC HAMMER  OAKLANDFIGHTCLUB IIIXX OPUS #WeGottaDoBetter #...\n",
       "28113               🚶🏽jack                                                   \n",
       "50609           Life Facts  #LifeFacts Posting whatever I like that's true...\n",
       "51623        Carrie Fisher  theres no room for demons when you're self pos...\n",
       "58413              Ustream  The world's most social and scalable live vide...\n",
       "68596              Verizon  Serving up America's best network 140 characte...\n",
       "108637              NVIDIA  The official handle for NVIDIA. Blog: http://b...\n",
       "110913   Victorious Marcus  #1RADIO-MTV-UNIVERSAL-AWARDS-SINGER/SONG-MOVIE...\n",
       "116557         Bon Appétit                       Where food and culture meet.\n",
       "116718  PeopleSearches.com  Trying to Find People Online? Try #PeopleSearc...\n",
       "141822     Geoff De Weaver  Geoff De Weaver - Global Entrepreneur | Digita...\n",
       "145737             HISTORY  Official HISTORY® Twitter. The leading destina..."
      ]
     },
     "execution_count": 15,
     "metadata": {},
     "output_type": "execute_result"
    }
   ],
   "source": [
    "# we can use boolean operator to select certain values and reference them in a new object\n",
    "df1 = df[df.friends_count < 80312] \n",
    "df1[df1.followers_count > 1000000][['name', 'description']]"
   ]
  },
  {
   "cell_type": "markdown",
   "metadata": {},
   "source": [
    "Some of the users with the most followers have been removed. \n",
    "Why does this suggest that this simple form of bot detection is less then ideal?\n",
    "\n",
    "What could we do to improve it?\n",
    "\n",
    "In order to not get stick in analysis paralysis let's add this to our list of TODOs and continue with exploration"
   ]
  },
  {
   "cell_type": "markdown",
   "metadata": {
    "collapsed": true
   },
   "source": [
    "## Now let's take a look at some of the features we extracted using AlchemyLanguage API"
   ]
  },
  {
   "cell_type": "code",
   "execution_count": 16,
   "metadata": {
    "collapsed": true
   },
   "outputs": [
    {
     "data": {
      "text/plain": [
       "0    {\"url\": \"\", \"entities\": [{\"text\": \"Researcher\"...\n",
       "1    {\"url\": \"\", \"entities\": [{\"text\": \"#communityp...\n",
       "2    {\"url\": \"\", \"entities\": [{\"text\": \"consultant\"...\n",
       "3                  url, html or text must be specified\n",
       "4                  url, html or text must be specified\n",
       "Name: description_entities, dtype: object"
      ]
     },
     "execution_count": 16,
     "metadata": {},
     "output_type": "execute_result"
    }
   ],
   "source": [
    "df.description_entities.head()"
   ]
  },
  {
   "cell_type": "markdown",
   "metadata": {},
   "source": [
    "Not much help from the head function, lets try looking at a few cases"
   ]
  },
  {
   "cell_type": "code",
   "execution_count": 17,
   "metadata": {
    "collapsed": true
   },
   "outputs": [
    {
     "name": "stdout",
     "output_type": "stream",
     "text": [
      "research interest: wearable sensors, non-linear dynamics, machine learning and human-robot interaction. Doctoral Researcher @unibirmingham funded by @conacyt_mx\n",
      "-------\n",
      "{\"url\": \"\", \"entities\": [{\"text\": \"Researcher\", \"type\": \"JobTitle\", \"relevance\": \"0.973985\", \"count\": \"1\"}, {\"text\": \"@unibirmingham\", \"type\": \"TwitterHandle\", \"relevance\": \"0.973985\", \"count\": \"1\"}, {\"text\": \"@conacyt_mx\", \"type\": \"TwitterHandle\", \"relevance\": \"0.973985\", \"count\": \"1\"}], \"status\": \"OK\", \"usage\": \"By accessing AlchemyAPI or using information generated by AlchemyAPI, you are agreeing to be bound by the AlchemyAPI Terms of Use: http://www.alchemyapi.com/company/terms.html\", \"language\": \"english\"}\n"
     ]
    }
   ],
   "source": [
    "print(df.description[0])\n",
    "print('-------')\n",
    "print(df.description_entities[0])"
   ]
  },
  {
   "cell_type": "markdown",
   "metadata": {},
   "source": [
    "Detected a jobTitle and two TwitterHandles"
   ]
  },
  {
   "cell_type": "code",
   "execution_count": 18,
   "metadata": {
    "collapsed": true
   },
   "outputs": [
    {
     "name": "stdout",
     "output_type": "stream",
     "text": [
      "Strategist, Solutions, Speaker. Tweets: #HIT #mhealth #IoT #pophealth #cpph #MIHCP #communityparamedicine #wellbeing #InvestIN ; Wknd: #food #fashion #function\n",
      "-------\n",
      "{\"url\": \"\", \"entities\": [{\"text\": \"#communityparamedicine\", \"type\": \"Hashtag\", \"relevance\": \"0.01\", \"count\": \"1\"}, {\"text\": \"#pophealth\", \"type\": \"Hashtag\", \"relevance\": \"0.01\", \"count\": \"1\"}, {\"text\": \"#wellbeing\", \"type\": \"Hashtag\", \"relevance\": \"0.01\", \"count\": \"1\"}, {\"text\": \"#InvestIN\", \"type\": \"Hashtag\", \"relevance\": \"0.01\", \"count\": \"1\"}, {\"text\": \"#function\", \"type\": \"Hashtag\", \"relevance\": \"0.01\", \"count\": \"1\"}, {\"text\": \"#fashion\", \"type\": \"Hashtag\", \"relevance\": \"0.01\", \"count\": \"1\"}, {\"text\": \"#mhealth\", \"type\": \"Hashtag\", \"relevance\": \"0.01\", \"count\": \"1\"}, {\"text\": \"#MIHCP\", \"type\": \"Hashtag\", \"relevance\": \"0.01\", \"count\": \"1\"}, {\"text\": \"#cpph\", \"type\": \"Hashtag\", \"relevance\": \"0.01\", \"count\": \"1\"}, {\"text\": \"#food\", \"type\": \"Hashtag\", \"relevance\": \"0.01\", \"count\": \"1\"}, {\"text\": \"#HIT\", \"type\": \"Hashtag\", \"relevance\": \"0.01\", \"count\": \"1\"}, {\"text\": \"#IoT\", \"type\": \"Hashtag\", \"relevance\": \"0.01\", \"count\": \"1\"}], \"status\": \"OK\", \"usage\": \"By accessing AlchemyAPI or using information generated by AlchemyAPI, you are agreeing to be bound by the AlchemyAPI Terms of Use: http://www.alchemyapi.com/company/terms.html\", \"language\": \"english\"}\n"
     ]
    }
   ],
   "source": [
    "print(df.description[1])\n",
    "print('-------')\n",
    "print(df.description_entities[1])"
   ]
  },
  {
   "cell_type": "markdown",
   "metadata": {},
   "source": [
    "Picked up all the hashtags"
   ]
  },
  {
   "cell_type": "code",
   "execution_count": 19,
   "metadata": {
    "collapsed": true
   },
   "outputs": [
    {
     "name": "stdout",
     "output_type": "stream",
     "text": [
      "Chartered Surveyor, real estate consultant, commercial and residential sectors, investment and development, MCC cricketer, failed kids soccer coach.\n",
      "-------\n",
      "{\"url\": \"\", \"entities\": [{\"text\": \"consultant\", \"type\": \"JobTitle\", \"relevance\": \"0.33\", \"count\": \"1\"}, {\"text\": \"real estate\", \"type\": \"FieldTerminology\", \"relevance\": \"0.33\", \"count\": \"1\"}, {\"text\": \"MCC\", \"type\": \"Organization\", \"relevance\": \"0.33\", \"count\": \"1\"}, {\"text\": \"soccer\", \"type\": \"Sport\", \"disambiguated\": {\"opencyc\": \"http://sw.opencyc.org/concept/Mx4rvVjxhJwpEbGdrcN5Y29ycA\", \"dbpedia\": \"http://dbpedia.org/resource/Association_football\", \"name\": \"Association football\", \"freebase\": \"http://rdf.freebase.com/ns/m.02vx4\"}, \"relevance\": \"0.33\", \"count\": \"1\"}], \"status\": \"OK\", \"usage\": \"By accessing AlchemyAPI or using information generated by AlchemyAPI, you are agreeing to be bound by the AlchemyAPI Terms of Use: http://www.alchemyapi.com/company/terms.html\", \"language\": \"english\"}\n"
     ]
    }
   ],
   "source": [
    "print(df.description[2])\n",
    "print('-------')\n",
    "print(df.description_entities[2])"
   ]
  },
  {
   "cell_type": "markdown",
   "metadata": {},
   "source": [
    "Another job title, some industry specific language, an organization, and a sports reference"
   ]
  },
  {
   "cell_type": "markdown",
   "metadata": {},
   "source": [
    "### Based on these examples, we have  identified something very useful for our client: job titles. We also know that we have a smaller set of users with a wide follower base.  Retweets from these users will reach a wider audience. "
   ]
  },
  {
   "cell_type": "markdown",
   "metadata": {},
   "source": [
    "### Extract all the job titles.  \n",
    "\n",
    "To do this we must perform a transformation on the description_entities column in our dataset.  Go to the transform file to see how we do this."
   ]
  },
  {
   "cell_type": "code",
   "execution_count": 21,
   "metadata": {
    "collapsed": true
   },
   "outputs": [],
   "source": [
    "df_transformed = pd.read_json(r'resources\\data\\IBMWatson_followers_entities_transformed.json')"
   ]
  },
  {
   "cell_type": "markdown",
   "metadata": {},
   "source": [
    "After the transformation is complete we now have access to a job_title variable."
   ]
  },
  {
   "cell_type": "code",
   "execution_count": 23,
   "metadata": {
    "collapsed": true
   },
   "outputs": [
    {
     "data": {
      "text/plain": [
       "count     26662\n",
       "unique     7903\n",
       "top         CEO\n",
       "freq        816\n",
       "Name: job_title, dtype: object"
      ]
     },
     "execution_count": 23,
     "metadata": {},
     "output_type": "execute_result"
    }
   ],
   "source": [
    "df_transformed['job_title'].describe()"
   ]
  },
  {
   "cell_type": "markdown",
   "metadata": {},
   "source": [
    "CEO is most frequent, let's check out some other values"
   ]
  },
  {
   "cell_type": "code",
   "execution_count": 28,
   "metadata": {
    "collapsed": true
   },
   "outputs": [
    {
     "data": {
      "text/plain": [
       "CEO                                                                                        816\n",
       "Founder                                                                                    668\n",
       "Consultant                                                                                 654\n",
       "Director                                                                                   633\n",
       "Engineer                                                                                   593\n",
       "Developer                                                                                  590\n",
       "Executive                                                                                  450\n",
       "developer                                                                                  406\n",
       "Software Engineer                                                                          400\n",
       "consultant                                                                                 385\n",
       "Official                                                                                   379\n",
       "writer                                                                                     371\n",
       "Scientist                                                                                  341\n",
       "Writer                                                                                     335\n",
       "Partner                                                                                    313\n",
       "engineer                                                                                   313\n",
       "Analyst                                                                                    281\n",
       "scientist                                                                                  272\n",
       "Researcher                                                                                 248\n",
       "researcher                                                                                 236\n",
       "VP                                                                                         231\n",
       "official                                                                                   224\n",
       "Co-founder                                                                                 202\n",
       "Co-Founder                                                                                 196\n",
       "CTO                                                                                        190\n",
       "Software Developer                                                                         187\n",
       "President                                                                                  163\n",
       "Advisor                                                                                    158\n",
       "Programmer                                                                                 157\n",
       "Project Manager                                                                            156\n",
       "                                                                                          ... \n",
       "Digital Media Evangelist & Entrepreneur                                                      1\n",
       "Business Development Expert / Advisory and Consulting Sales Expert / Technology Fanatic      1\n",
       "Senior Research Scientist                                                                    1\n",
       "Sales & Marketing Professional                                                               1\n",
       "Global Executive MBA                                                                         1\n",
       "Abdominal Imaging Radiologist                                                                1\n",
       "Cloud Solutions Consultant                                                                   1\n",
       "editorial director                                                                           1\n",
       "Computing Civil Engineer                                                                     1\n",
       "Watson Health Care Cognitive Client Experience Center Project                                1\n",
       "Customer Strategy consultancy                                                                1\n",
       "Support Sales Rep IBM Digital Sales                                                          1\n",
       "CTO Ambassador Program                                                                       1\n",
       "Principal Software Architect                                                                 1\n",
       "Communications Engineering CTO Sr                                                            1\n",
       "DTU Professor in Learning Technology and Digitalization                                      1\n",
       "Data Mining and Predictive Analytics                                                         1\n",
       "Management Development Trainer & Business Coach                                              1\n",
       "Accenture Partner                                                                            1\n",
       "Professor and Director                                                                       1\n",
       "Process Specialist                                                                           1\n",
       "Product Manager for Oracle                                                                   1\n",
       "Senior Producer                                                                              1\n",
       "Sales Enablement & Operations                                                                1\n",
       "strategy Educator                                                                            1\n",
       "Service Provider Company                                                                     1\n",
       "HR Business Development Consultant                                                           1\n",
       "Validate Contractor SLA                                                                      1\n",
       "Brand Consulting Specialist                                                                  1\n",
       "Process Improvement Specialist                                                               1\n",
       "Name: job_title, dtype: int64"
      ]
     },
     "execution_count": 28,
     "metadata": {},
     "output_type": "execute_result"
    }
   ],
   "source": [
    "df_transformed['job_title'].value_counts()"
   ]
  },
  {
   "cell_type": "markdown",
   "metadata": {},
   "source": [
    "### Most of our job titles have only a single entry"
   ]
  },
  {
   "cell_type": "code",
   "execution_count": 29,
   "metadata": {
    "collapsed": true
   },
   "outputs": [
    {
     "data": {
      "text/plain": [
       "<matplotlib.axes._subplots.AxesSubplot at 0x85fd21d0>"
      ]
     },
     "execution_count": 29,
     "metadata": {},
     "output_type": "execute_result"
    },
    {
     "data": {
      "image/png": "[encoded data removed]",
      "text/plain": [
       "<matplotlib.figure.Figure at 0x8528df60>"
      ]
     },
     "metadata": {},
     "output_type": "display_data"
    }
   ],
   "source": [
    "df_transformed['job_title_freq'] = df_transformed.groupby('job_title')['job_title'].transform('count')\n",
    "df_transformed['job_title_freq'].plot.hist(bins=[_ for _ in range(0,900,50)])"
   ]
  },
  {
   "cell_type": "code",
   "execution_count": 31,
   "metadata": {
    "collapsed": true
   },
   "outputs": [
    {
     "data": {
      "text/plain": [
       "<matplotlib.axes._subplots.AxesSubplot at 0x85093630>"
      ]
     },
     "execution_count": 31,
     "metadata": {},
     "output_type": "execute_result"
    },
    {
     "data": {
      "image/png": "[encoded data removed]",
      "text/plain": [
       "<matplotlib.figure.Figure at 0xb808d68>"
      ]
     },
     "metadata": {},
     "output_type": "display_data"
    }
   ],
   "source": [
    "df_transformed['job_title_freq'].plot.hist(bins=[_ for _ in range(0,50,1)])"
   ]
  },
  {
   "cell_type": "markdown",
   "metadata": {
    "collapsed": false
   },
   "source": [
    "To create role segments we can create aggregation rules\n",
    "\n",
    "This can be accomplished through regular expressions"
   ]
  },
  {
   "cell_type": "code",
   "execution_count": 36,
   "metadata": {
    "collapsed": true
   },
   "outputs": [
    {
     "data": {
      "text/plain": [
       "C-Suite                     5587\n",
       "developers                  2980\n",
       "manager                     2538\n",
       "consultants                 2241\n",
       "research                    1812\n",
       "director                    1796\n",
       "writer/editor               1138\n",
       "analyst                      701\n",
       "Engineer                     593\n",
       "VP                           501\n",
       "education                    465\n",
       "Official                     379\n",
       "engineer                     313\n",
       "strategists                  257\n",
       "official                     224\n",
       "intern                       130\n",
       "Representative                79\n",
       "Officer                       76\n",
       "Producer                      75\n",
       "security                      64\n",
       "Principal                     64\n",
       "producer                      46\n",
       "Distinguished Engineer        44\n",
       "Physicist                     42\n",
       "physicist                     39\n",
       "Attorney                      38\n",
       "Systems Engineer              29\n",
       "Sales Representative          28\n",
       "Publisher                     28\n",
       "attorney                      27\n",
       "Marketing Specialist          27\n",
       "Accountant                    25\n",
       "Technical Support             24\n",
       "professional services         24\n",
       "representative                23\n",
       "Coordinator                   21\n",
       "Technology Evangelist         21\n",
       "User Experience Designer      20\n",
       "officer                       18\n",
       "Technician                    18\n",
       "Solution Architect            16\n",
       "coordinator                   16\n",
       "Technology evangelist         15\n",
       "Secretary                     14\n",
       "Telecoms                      14\n",
       "Computer Engineer             14\n",
       "Marketing Coordinator         13\n",
       "publisher                     13\n",
       "Technical Specialist          12\n",
       "Professional Services         12\n",
       "Name: job_title_new, dtype: int64"
      ]
     },
     "execution_count": 36,
     "metadata": {},
     "output_type": "execute_result"
    }
   ],
   "source": [
    "df_transformed['job_title_new'].value_counts()[0:50]"
   ]
  },
  {
   "cell_type": "code",
   "execution_count": 41,
   "metadata": {
    "collapsed": true
   },
   "outputs": [
    {
     "data": {
      "text/plain": [
       "22694"
      ]
     },
     "execution_count": 41,
     "metadata": {},
     "output_type": "execute_result"
    }
   ],
   "source": [
    "sum(df_transformed['job_title_new'].value_counts()[0:50])"
   ]
  },
  {
   "cell_type": "markdown",
   "metadata": {},
   "source": [
    "The top 50 most frequent titles account for 22,694 of job titles in the dataset (85%).\n",
    "\n",
    "More work is required to further reduce the unique job titles in the dataset.\n",
    " - 80/20 rule"
   ]
  },
  {
   "cell_type": "markdown",
   "metadata": {},
   "source": [
    "### Conclusion\n",
    "\n",
    "During this exercise we have \n",
    "- identified useful variables (follower_count, friend_count, description)\n",
    "- performed transformations (extracted job title to give us early adopter role)\n",
    "- identified data problems (spam bots)\n",
    "\n",
    "There is much more that can be done in data exploration but this is a good start to prepare us for the modeling phase where we will perform text analysis to segment the early adopters."
   ]
  }
 ],
 "metadata": {
  "kernelspec": {
   "display_name": "Python 3",
   "language": "python",
   "name": "python3"
  },
  "language_info": {
   "codemirror_mode": {
    "name": "ipython",
    "version": 3
   },
   "file_extension": ".py",
   "mimetype": "text/x-python",
   "name": "python",
   "nbconvert_exporter": "python",
   "pygments_lexer": "ipython3",
   "version": "3.5.2"
  }
 },
 "nbformat": 4,
 "nbformat_minor": 0
}
